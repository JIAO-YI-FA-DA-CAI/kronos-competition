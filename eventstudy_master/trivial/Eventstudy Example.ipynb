{
 "cells": [
  {
   "cell_type": "markdown",
   "metadata": {},
   "source": [
    "# Get Started"
   ]
  },
  {
   "cell_type": "markdown",
   "metadata": {},
   "source": [
    "## Preliminary work\n",
    "\n",
    "1. Load the eventstudy module and its dependencies: numpy and matplotlib:"
   ]
  },
  {
   "cell_type": "code",
   "execution_count": 19,
   "metadata": {
    "ExecuteTime": {
     "end_time": "2021-03-19T08:31:41.408207Z",
     "start_time": "2021-03-19T08:31:41.387562Z"
    }
   },
   "outputs": [
    {
     "name": "stdout",
     "output_type": "stream",
     "text": [
      "0.1a12\n"
     ]
    }
   ],
   "source": [
    "import eventstudy as es\n",
    "print(es.__version__)\n",
    "from eventstudy import excelExporter\n",
    "\n",
    "import numpy as np\n",
    "import matplotlib.pyplot as plt"
   ]
  },
  {
   "cell_type": "markdown",
   "metadata": {},
   "source": [
    "2. Set the parameters needed for your events: the returns and Fama-French factors (using es.import_returns()and es.import_FamaFrench()):"
   ]
  },
  {
   "cell_type": "code",
   "execution_count": 20,
   "metadata": {
    "ExecuteTime": {
     "end_time": "2021-03-19T08:31:47.062726Z",
     "start_time": "2021-03-19T08:31:46.959271Z"
    }
   },
   "outputs": [
    {
     "ename": "FileNotFoundError",
     "evalue": "[Errno 2] No such file or directory: 'example/returns_GAFAM.csv'",
     "output_type": "error",
     "traceback": [
      "\u001b[1;31m---------------------------------------------------------------------------\u001b[0m",
      "\u001b[1;31mFileNotFoundError\u001b[0m                         Traceback (most recent call last)",
      "\u001b[1;32m~\\AppData\\Local\\Temp/ipykernel_18652/352710020.py\u001b[0m in \u001b[0;36m<module>\u001b[1;34m\u001b[0m\n\u001b[1;32m----> 1\u001b[1;33m \u001b[0mes\u001b[0m\u001b[1;33m.\u001b[0m\u001b[0mSingle\u001b[0m\u001b[1;33m.\u001b[0m\u001b[0mimport_returns\u001b[0m\u001b[1;33m(\u001b[0m\u001b[1;34m'example/returns_GAFAM.csv'\u001b[0m\u001b[1;33m)\u001b[0m\u001b[1;33m\u001b[0m\u001b[1;33m\u001b[0m\u001b[0m\n\u001b[0m\u001b[0;32m      2\u001b[0m \u001b[0mes\u001b[0m\u001b[1;33m.\u001b[0m\u001b[0mSingle\u001b[0m\u001b[1;33m.\u001b[0m\u001b[0mimport_FamaFrench\u001b[0m\u001b[1;33m(\u001b[0m\u001b[1;34m'example/famafrench.csv'\u001b[0m\u001b[1;33m)\u001b[0m\u001b[1;33m\u001b[0m\u001b[1;33m\u001b[0m\u001b[0m\n",
      "\u001b[1;32mc:\\Users\\casper\\Desktop\\Casper\\kronos competition\\kronos-competition\\eventstudy_master\\eventstudy\\single.py\u001b[0m in \u001b[0;36mimport_returns\u001b[1;34m(cls, path, is_price, log_return, date_format)\u001b[0m\n\u001b[0;32m    325\u001b[0m             \u001b[0mhttps\u001b[0m\u001b[1;33m:\u001b[0m\u001b[1;33m//\u001b[0m\u001b[0mdocs\u001b[0m\u001b[1;33m.\u001b[0m\u001b[0mpython\u001b[0m\u001b[1;33m.\u001b[0m\u001b[0morg\u001b[0m\u001b[1;33m/\u001b[0m\u001b[1;36m2\u001b[0m\u001b[1;33m/\u001b[0m\u001b[0mlibrary\u001b[0m\u001b[1;33m/\u001b[0m\u001b[0mdatetime\u001b[0m\u001b[1;33m.\u001b[0m\u001b[0mhtml\u001b[0m\u001b[1;31m#strftime-strptime-behavior\u001b[0m\u001b[1;33m\u001b[0m\u001b[1;33m\u001b[0m\u001b[0m\n\u001b[0;32m    326\u001b[0m         \"\"\"\n\u001b[1;32m--> 327\u001b[1;33m         \u001b[0mdata\u001b[0m \u001b[1;33m=\u001b[0m \u001b[0mread_csv\u001b[0m\u001b[1;33m(\u001b[0m\u001b[0mpath\u001b[0m\u001b[1;33m,\u001b[0m \u001b[0mformat_date\u001b[0m\u001b[1;33m=\u001b[0m\u001b[1;32mTrue\u001b[0m\u001b[1;33m,\u001b[0m \u001b[0mdate_format\u001b[0m\u001b[1;33m=\u001b[0m\u001b[0mdate_format\u001b[0m\u001b[1;33m)\u001b[0m\u001b[1;33m\u001b[0m\u001b[1;33m\u001b[0m\u001b[0m\n\u001b[0m\u001b[0;32m    328\u001b[0m \u001b[1;33m\u001b[0m\u001b[0m\n\u001b[0;32m    329\u001b[0m         \u001b[1;32mif\u001b[0m \u001b[0mis_price\u001b[0m\u001b[1;33m:\u001b[0m\u001b[1;33m\u001b[0m\u001b[1;33m\u001b[0m\u001b[0m\n",
      "\u001b[1;32mc:\\Users\\casper\\Desktop\\Casper\\kronos competition\\kronos-competition\\eventstudy_master\\eventstudy\\utils.py\u001b[0m in \u001b[0;36mread_csv\u001b[1;34m(path, format_date, date_format, date_column, row_wise)\u001b[0m\n\u001b[0;32m    107\u001b[0m ):\n\u001b[0;32m    108\u001b[0m \u001b[1;33m\u001b[0m\u001b[0m\n\u001b[1;32m--> 109\u001b[1;33m     \u001b[0mdf\u001b[0m \u001b[1;33m=\u001b[0m \u001b[0mpd\u001b[0m\u001b[1;33m.\u001b[0m\u001b[0mread_csv\u001b[0m\u001b[1;33m(\u001b[0m\u001b[0mpath\u001b[0m\u001b[1;33m,\u001b[0m \u001b[0mskipinitialspace\u001b[0m\u001b[1;33m=\u001b[0m\u001b[1;32mTrue\u001b[0m\u001b[1;33m)\u001b[0m\u001b[1;33m\u001b[0m\u001b[1;33m\u001b[0m\u001b[0m\n\u001b[0m\u001b[0;32m    110\u001b[0m \u001b[1;33m\u001b[0m\u001b[0m\n\u001b[0;32m    111\u001b[0m     \u001b[1;32mif\u001b[0m \u001b[0mformat_date\u001b[0m\u001b[1;33m:\u001b[0m\u001b[1;33m\u001b[0m\u001b[1;33m\u001b[0m\u001b[0m\n",
      "\u001b[1;32mc:\\Users\\casper\\Anaconda3\\lib\\site-packages\\pandas\\util\\_decorators.py\u001b[0m in \u001b[0;36mwrapper\u001b[1;34m(*args, **kwargs)\u001b[0m\n\u001b[0;32m    309\u001b[0m                     \u001b[0mstacklevel\u001b[0m\u001b[1;33m=\u001b[0m\u001b[0mstacklevel\u001b[0m\u001b[1;33m,\u001b[0m\u001b[1;33m\u001b[0m\u001b[1;33m\u001b[0m\u001b[0m\n\u001b[0;32m    310\u001b[0m                 )\n\u001b[1;32m--> 311\u001b[1;33m             \u001b[1;32mreturn\u001b[0m \u001b[0mfunc\u001b[0m\u001b[1;33m(\u001b[0m\u001b[1;33m*\u001b[0m\u001b[0margs\u001b[0m\u001b[1;33m,\u001b[0m \u001b[1;33m**\u001b[0m\u001b[0mkwargs\u001b[0m\u001b[1;33m)\u001b[0m\u001b[1;33m\u001b[0m\u001b[1;33m\u001b[0m\u001b[0m\n\u001b[0m\u001b[0;32m    312\u001b[0m \u001b[1;33m\u001b[0m\u001b[0m\n\u001b[0;32m    313\u001b[0m         \u001b[1;32mreturn\u001b[0m \u001b[0mwrapper\u001b[0m\u001b[1;33m\u001b[0m\u001b[1;33m\u001b[0m\u001b[0m\n",
      "\u001b[1;32mc:\\Users\\casper\\Anaconda3\\lib\\site-packages\\pandas\\io\\parsers\\readers.py\u001b[0m in \u001b[0;36mread_csv\u001b[1;34m(filepath_or_buffer, sep, delimiter, header, names, index_col, usecols, squeeze, prefix, mangle_dupe_cols, dtype, engine, converters, true_values, false_values, skipinitialspace, skiprows, skipfooter, nrows, na_values, keep_default_na, na_filter, verbose, skip_blank_lines, parse_dates, infer_datetime_format, keep_date_col, date_parser, dayfirst, cache_dates, iterator, chunksize, compression, thousands, decimal, lineterminator, quotechar, quoting, doublequote, escapechar, comment, encoding, encoding_errors, dialect, error_bad_lines, warn_bad_lines, on_bad_lines, delim_whitespace, low_memory, memory_map, float_precision, storage_options)\u001b[0m\n\u001b[0;32m    584\u001b[0m     \u001b[0mkwds\u001b[0m\u001b[1;33m.\u001b[0m\u001b[0mupdate\u001b[0m\u001b[1;33m(\u001b[0m\u001b[0mkwds_defaults\u001b[0m\u001b[1;33m)\u001b[0m\u001b[1;33m\u001b[0m\u001b[1;33m\u001b[0m\u001b[0m\n\u001b[0;32m    585\u001b[0m \u001b[1;33m\u001b[0m\u001b[0m\n\u001b[1;32m--> 586\u001b[1;33m     \u001b[1;32mreturn\u001b[0m \u001b[0m_read\u001b[0m\u001b[1;33m(\u001b[0m\u001b[0mfilepath_or_buffer\u001b[0m\u001b[1;33m,\u001b[0m \u001b[0mkwds\u001b[0m\u001b[1;33m)\u001b[0m\u001b[1;33m\u001b[0m\u001b[1;33m\u001b[0m\u001b[0m\n\u001b[0m\u001b[0;32m    587\u001b[0m \u001b[1;33m\u001b[0m\u001b[0m\n\u001b[0;32m    588\u001b[0m \u001b[1;33m\u001b[0m\u001b[0m\n",
      "\u001b[1;32mc:\\Users\\casper\\Anaconda3\\lib\\site-packages\\pandas\\io\\parsers\\readers.py\u001b[0m in \u001b[0;36m_read\u001b[1;34m(filepath_or_buffer, kwds)\u001b[0m\n\u001b[0;32m    480\u001b[0m \u001b[1;33m\u001b[0m\u001b[0m\n\u001b[0;32m    481\u001b[0m     \u001b[1;31m# Create the parser.\u001b[0m\u001b[1;33m\u001b[0m\u001b[1;33m\u001b[0m\u001b[0m\n\u001b[1;32m--> 482\u001b[1;33m     \u001b[0mparser\u001b[0m \u001b[1;33m=\u001b[0m \u001b[0mTextFileReader\u001b[0m\u001b[1;33m(\u001b[0m\u001b[0mfilepath_or_buffer\u001b[0m\u001b[1;33m,\u001b[0m \u001b[1;33m**\u001b[0m\u001b[0mkwds\u001b[0m\u001b[1;33m)\u001b[0m\u001b[1;33m\u001b[0m\u001b[1;33m\u001b[0m\u001b[0m\n\u001b[0m\u001b[0;32m    483\u001b[0m \u001b[1;33m\u001b[0m\u001b[0m\n\u001b[0;32m    484\u001b[0m     \u001b[1;32mif\u001b[0m \u001b[0mchunksize\u001b[0m \u001b[1;32mor\u001b[0m \u001b[0miterator\u001b[0m\u001b[1;33m:\u001b[0m\u001b[1;33m\u001b[0m\u001b[1;33m\u001b[0m\u001b[0m\n",
      "\u001b[1;32mc:\\Users\\casper\\Anaconda3\\lib\\site-packages\\pandas\\io\\parsers\\readers.py\u001b[0m in \u001b[0;36m__init__\u001b[1;34m(self, f, engine, **kwds)\u001b[0m\n\u001b[0;32m    809\u001b[0m             \u001b[0mself\u001b[0m\u001b[1;33m.\u001b[0m\u001b[0moptions\u001b[0m\u001b[1;33m[\u001b[0m\u001b[1;34m\"has_index_names\"\u001b[0m\u001b[1;33m]\u001b[0m \u001b[1;33m=\u001b[0m \u001b[0mkwds\u001b[0m\u001b[1;33m[\u001b[0m\u001b[1;34m\"has_index_names\"\u001b[0m\u001b[1;33m]\u001b[0m\u001b[1;33m\u001b[0m\u001b[1;33m\u001b[0m\u001b[0m\n\u001b[0;32m    810\u001b[0m \u001b[1;33m\u001b[0m\u001b[0m\n\u001b[1;32m--> 811\u001b[1;33m         \u001b[0mself\u001b[0m\u001b[1;33m.\u001b[0m\u001b[0m_engine\u001b[0m \u001b[1;33m=\u001b[0m \u001b[0mself\u001b[0m\u001b[1;33m.\u001b[0m\u001b[0m_make_engine\u001b[0m\u001b[1;33m(\u001b[0m\u001b[0mself\u001b[0m\u001b[1;33m.\u001b[0m\u001b[0mengine\u001b[0m\u001b[1;33m)\u001b[0m\u001b[1;33m\u001b[0m\u001b[1;33m\u001b[0m\u001b[0m\n\u001b[0m\u001b[0;32m    812\u001b[0m \u001b[1;33m\u001b[0m\u001b[0m\n\u001b[0;32m    813\u001b[0m     \u001b[1;32mdef\u001b[0m \u001b[0mclose\u001b[0m\u001b[1;33m(\u001b[0m\u001b[0mself\u001b[0m\u001b[1;33m)\u001b[0m\u001b[1;33m:\u001b[0m\u001b[1;33m\u001b[0m\u001b[1;33m\u001b[0m\u001b[0m\n",
      "\u001b[1;32mc:\\Users\\casper\\Anaconda3\\lib\\site-packages\\pandas\\io\\parsers\\readers.py\u001b[0m in \u001b[0;36m_make_engine\u001b[1;34m(self, engine)\u001b[0m\n\u001b[0;32m   1038\u001b[0m             )\n\u001b[0;32m   1039\u001b[0m         \u001b[1;31m# error: Too many arguments for \"ParserBase\"\u001b[0m\u001b[1;33m\u001b[0m\u001b[1;33m\u001b[0m\u001b[0m\n\u001b[1;32m-> 1040\u001b[1;33m         \u001b[1;32mreturn\u001b[0m \u001b[0mmapping\u001b[0m\u001b[1;33m[\u001b[0m\u001b[0mengine\u001b[0m\u001b[1;33m]\u001b[0m\u001b[1;33m(\u001b[0m\u001b[0mself\u001b[0m\u001b[1;33m.\u001b[0m\u001b[0mf\u001b[0m\u001b[1;33m,\u001b[0m \u001b[1;33m**\u001b[0m\u001b[0mself\u001b[0m\u001b[1;33m.\u001b[0m\u001b[0moptions\u001b[0m\u001b[1;33m)\u001b[0m  \u001b[1;31m# type: ignore[call-arg]\u001b[0m\u001b[1;33m\u001b[0m\u001b[1;33m\u001b[0m\u001b[0m\n\u001b[0m\u001b[0;32m   1041\u001b[0m \u001b[1;33m\u001b[0m\u001b[0m\n\u001b[0;32m   1042\u001b[0m     \u001b[1;32mdef\u001b[0m \u001b[0m_failover_to_python\u001b[0m\u001b[1;33m(\u001b[0m\u001b[0mself\u001b[0m\u001b[1;33m)\u001b[0m\u001b[1;33m:\u001b[0m\u001b[1;33m\u001b[0m\u001b[1;33m\u001b[0m\u001b[0m\n",
      "\u001b[1;32mc:\\Users\\casper\\Anaconda3\\lib\\site-packages\\pandas\\io\\parsers\\c_parser_wrapper.py\u001b[0m in \u001b[0;36m__init__\u001b[1;34m(self, src, **kwds)\u001b[0m\n\u001b[0;32m     49\u001b[0m \u001b[1;33m\u001b[0m\u001b[0m\n\u001b[0;32m     50\u001b[0m         \u001b[1;31m# open handles\u001b[0m\u001b[1;33m\u001b[0m\u001b[1;33m\u001b[0m\u001b[0m\n\u001b[1;32m---> 51\u001b[1;33m         \u001b[0mself\u001b[0m\u001b[1;33m.\u001b[0m\u001b[0m_open_handles\u001b[0m\u001b[1;33m(\u001b[0m\u001b[0msrc\u001b[0m\u001b[1;33m,\u001b[0m \u001b[0mkwds\u001b[0m\u001b[1;33m)\u001b[0m\u001b[1;33m\u001b[0m\u001b[1;33m\u001b[0m\u001b[0m\n\u001b[0m\u001b[0;32m     52\u001b[0m         \u001b[1;32massert\u001b[0m \u001b[0mself\u001b[0m\u001b[1;33m.\u001b[0m\u001b[0mhandles\u001b[0m \u001b[1;32mis\u001b[0m \u001b[1;32mnot\u001b[0m \u001b[1;32mNone\u001b[0m\u001b[1;33m\u001b[0m\u001b[1;33m\u001b[0m\u001b[0m\n\u001b[0;32m     53\u001b[0m \u001b[1;33m\u001b[0m\u001b[0m\n",
      "\u001b[1;32mc:\\Users\\casper\\Anaconda3\\lib\\site-packages\\pandas\\io\\parsers\\base_parser.py\u001b[0m in \u001b[0;36m_open_handles\u001b[1;34m(self, src, kwds)\u001b[0m\n\u001b[0;32m    220\u001b[0m         \u001b[0mLet\u001b[0m \u001b[0mthe\u001b[0m \u001b[0mreaders\u001b[0m \u001b[0mopen\u001b[0m \u001b[0mIOHandles\u001b[0m \u001b[0mafter\u001b[0m \u001b[0mthey\u001b[0m \u001b[0mare\u001b[0m \u001b[0mdone\u001b[0m \u001b[1;32mwith\u001b[0m \u001b[0mtheir\u001b[0m \u001b[0mpotential\u001b[0m \u001b[0mraises\u001b[0m\u001b[1;33m.\u001b[0m\u001b[1;33m\u001b[0m\u001b[1;33m\u001b[0m\u001b[0m\n\u001b[0;32m    221\u001b[0m         \"\"\"\n\u001b[1;32m--> 222\u001b[1;33m         self.handles = get_handle(\n\u001b[0m\u001b[0;32m    223\u001b[0m             \u001b[0msrc\u001b[0m\u001b[1;33m,\u001b[0m\u001b[1;33m\u001b[0m\u001b[1;33m\u001b[0m\u001b[0m\n\u001b[0;32m    224\u001b[0m             \u001b[1;34m\"r\"\u001b[0m\u001b[1;33m,\u001b[0m\u001b[1;33m\u001b[0m\u001b[1;33m\u001b[0m\u001b[0m\n",
      "\u001b[1;32mc:\\Users\\casper\\Anaconda3\\lib\\site-packages\\pandas\\io\\common.py\u001b[0m in \u001b[0;36mget_handle\u001b[1;34m(path_or_buf, mode, encoding, compression, memory_map, is_text, errors, storage_options)\u001b[0m\n\u001b[0;32m    700\u001b[0m         \u001b[1;32mif\u001b[0m \u001b[0mioargs\u001b[0m\u001b[1;33m.\u001b[0m\u001b[0mencoding\u001b[0m \u001b[1;32mand\u001b[0m \u001b[1;34m\"b\"\u001b[0m \u001b[1;32mnot\u001b[0m \u001b[1;32min\u001b[0m \u001b[0mioargs\u001b[0m\u001b[1;33m.\u001b[0m\u001b[0mmode\u001b[0m\u001b[1;33m:\u001b[0m\u001b[1;33m\u001b[0m\u001b[1;33m\u001b[0m\u001b[0m\n\u001b[0;32m    701\u001b[0m             \u001b[1;31m# Encoding\u001b[0m\u001b[1;33m\u001b[0m\u001b[1;33m\u001b[0m\u001b[0m\n\u001b[1;32m--> 702\u001b[1;33m             handle = open(\n\u001b[0m\u001b[0;32m    703\u001b[0m                 \u001b[0mhandle\u001b[0m\u001b[1;33m,\u001b[0m\u001b[1;33m\u001b[0m\u001b[1;33m\u001b[0m\u001b[0m\n\u001b[0;32m    704\u001b[0m                 \u001b[0mioargs\u001b[0m\u001b[1;33m.\u001b[0m\u001b[0mmode\u001b[0m\u001b[1;33m,\u001b[0m\u001b[1;33m\u001b[0m\u001b[1;33m\u001b[0m\u001b[0m\n",
      "\u001b[1;31mFileNotFoundError\u001b[0m: [Errno 2] No such file or directory: 'example/returns_GAFAM.csv'"
     ]
    }
   ],
   "source": [
    "es.Single.import_returns('example/returns_GAFAM.csv')\n",
    "es.Single.import_FamaFrench('example/famafrench.csv')"
   ]
  },
  {
   "cell_type": "markdown",
   "metadata": {},
   "source": [
    "## Example 1: A single event\n",
    "\n",
    "As an introductory example, we will compute the event study analysis of the announcement of the first iphone, made by Steve Jobs during MacWorld exhibition, on January 7, 2007.\n",
    "\n",
    "1. Run the event study, here using the Fama-French 3-factor model:"
   ]
  },
  {
   "cell_type": "code",
   "execution_count": null,
   "metadata": {
    "ExecuteTime": {
     "end_time": "2021-03-19T08:43:43.027580Z",
     "start_time": "2021-03-19T08:43:42.982087Z"
    }
   },
   "outputs": [],
   "source": [
    "source = [{\n",
    "    \"security_ticker\": \"AAPL\",\n",
    "    \"market_ticker\": 'SPY',\n",
    "    \"event_date\": '2007-01-09',\n",
    "},\n",
    "{\n",
    "    \"security_ticker\": \"MSFT\",\n",
    "    \"market_ticker\": 'SPY',\n",
    "    \"event_date\": '2007-01-09'\n",
    "},\n",
    "{\n",
    "    \"security_ticker\": \"AAPL\",\n",
    "    \"market_ticker\": 'SPY',\n",
    "    \"event_date\": '2008-01-09'\n",
    "}]\n",
    "\n",
    "\n",
    "results = []\n",
    "results_full = []\n",
    "\n",
    "\n",
    "for item in source:\n",
    "    event = es.Single.market_model(\n",
    "        security_ticker = item['security_ticker'],\n",
    "        market_ticker = item['market_ticker'],\n",
    "        event_date = np.datetime64(item['event_date']),\n",
    "        event_window = (-2,10), \n",
    "        estimation_size = 300,\n",
    "        buffer_size = 30\n",
    "    )\n",
    "    \n",
    "    results.append(event.results(asterisks=False).tail(1))\n",
    "    results_full.append(event)\n",
    "    "
   ]
  },
  {
   "cell_type": "code",
   "execution_count": null,
   "metadata": {
    "ExecuteTime": {
     "end_time": "2021-03-19T08:44:45.421427Z",
     "start_time": "2021-03-19T08:44:44.522433Z"
    }
   },
   "outputs": [
    {
     "data": {
      "image/png": "[encoded data removed]",
      "text/plain": [
       "<Figure size 432x288 with 1 Axes>"
      ]
     },
     "metadata": {
      "needs_background": "light"
     },
     "output_type": "display_data"
    },
    {
     "data": {
      "image/png": "[encoded data removed]",
      "text/plain": [
       "<Figure size 432x288 with 1 Axes>"
      ]
     },
     "metadata": {
      "needs_background": "light"
     },
     "output_type": "display_data"
    },
    {
     "data": {
      "image/png": "[encoded data removed]",
      "text/plain": [
       "<Figure size 432x288 with 1 Axes>"
      ]
     },
     "metadata": {
      "needs_background": "light"
     },
     "output_type": "display_data"
    }
   ],
   "source": [
    "for event in results_full:\n",
    "    event.plot(AR=True)"
   ]
  },
  {
   "cell_type": "markdown",
   "metadata": {},
   "source": [
    "2. Display results:\n",
    "    - In a plot:\n",
    "        - grey area: confidence interval (here at 90%)\n",
    "        - blue line: CAAR\n",
    "        - black bars: AR (displayed because AR parameter is set as True)"
   ]
  },
  {
   "cell_type": "code",
   "execution_count": null,
   "metadata": {
    "ExecuteTime": {
     "end_time": "2020-09-28T09:12:54.024031Z",
     "start_time": "2020-09-28T09:12:53.681694Z"
    }
   },
   "outputs": [
    {
     "data": {
      "image/png": "[encoded data removed]",
      "text/plain": [
       "<Figure size 432x288 with 1 Axes>"
      ]
     },
     "metadata": {
      "needs_background": "light"
     },
     "output_type": "display_data"
    }
   ],
   "source": [
    "event.plot(AR=True)\n",
    "plt.show()"
   ]
  },
  {
   "cell_type": "markdown",
   "metadata": {},
   "source": [
    "2. Or in a table:"
   ]
  },
  {
   "cell_type": "code",
   "execution_count": null,
   "metadata": {
    "ExecuteTime": {
     "end_time": "2020-09-28T09:12:54.055104Z",
     "start_time": "2020-09-28T09:12:54.027675Z"
    }
   },
   "outputs": [
    {
     "data": {
      "text/html": [
       "<div>\n",
       "<style scoped>\n",
       "    .dataframe tbody tr th:only-of-type {\n",
       "        vertical-align: middle;\n",
       "    }\n",
       "\n",
       "    .dataframe tbody tr th {\n",
       "        vertical-align: top;\n",
       "    }\n",
       "\n",
       "    .dataframe thead th {\n",
       "        text-align: right;\n",
       "    }\n",
       "</style>\n",
       "<table border=\"1\" class=\"dataframe\">\n",
       "  <thead>\n",
       "    <tr style=\"text-align: right;\">\n",
       "      <th></th>\n",
       "      <th>AR</th>\n",
       "      <th>Std. E. AR</th>\n",
       "      <th>CAR</th>\n",
       "      <th>Std. E. CAR</th>\n",
       "      <th>T-stat</th>\n",
       "      <th>P-value</th>\n",
       "    </tr>\n",
       "  </thead>\n",
       "  <tbody>\n",
       "    <tr>\n",
       "      <th>-2</th>\n",
       "      <td>-0.015</td>\n",
       "      <td>0.02014</td>\n",
       "      <td>-0.015</td>\n",
       "      <td>0.02014</td>\n",
       "      <td>-0.74</td>\n",
       "      <td>0.46</td>\n",
       "    </tr>\n",
       "    <tr>\n",
       "      <th>-1</th>\n",
       "      <td>-0.018</td>\n",
       "      <td>0.02014</td>\n",
       "      <td>-0.033</td>\n",
       "      <td>0.02849</td>\n",
       "      <td>-1.17</td>\n",
       "      <td>0.24</td>\n",
       "    </tr>\n",
       "    <tr>\n",
       "      <th>0</th>\n",
       "      <td>0.032</td>\n",
       "      <td>0.02014</td>\n",
       "      <td>-0.002</td>\n",
       "      <td>0.03489</td>\n",
       "      <td>-0.04</td>\n",
       "      <td>0.97</td>\n",
       "    </tr>\n",
       "    <tr>\n",
       "      <th>1</th>\n",
       "      <td>-0.019</td>\n",
       "      <td>0.02014</td>\n",
       "      <td>-0.02</td>\n",
       "      <td>0.04029</td>\n",
       "      <td>-0.50</td>\n",
       "      <td>0.62</td>\n",
       "    </tr>\n",
       "    <tr>\n",
       "      <th>2</th>\n",
       "      <td>-0.022</td>\n",
       "      <td>0.02014</td>\n",
       "      <td>-0.043</td>\n",
       "      <td>0.04505</td>\n",
       "      <td>-0.94</td>\n",
       "      <td>0.35</td>\n",
       "    </tr>\n",
       "    <tr>\n",
       "      <th>3</th>\n",
       "      <td>0.022</td>\n",
       "      <td>0.02014</td>\n",
       "      <td>-0.02</td>\n",
       "      <td>0.04934</td>\n",
       "      <td>-0.41</td>\n",
       "      <td>0.69</td>\n",
       "    </tr>\n",
       "    <tr>\n",
       "      <th>4</th>\n",
       "      <td>-0.029</td>\n",
       "      <td>0.02014</td>\n",
       "      <td>-0.049</td>\n",
       "      <td>0.05330</td>\n",
       "      <td>-0.93</td>\n",
       "      <td>0.35</td>\n",
       "    </tr>\n",
       "    <tr>\n",
       "      <th>5</th>\n",
       "      <td>-0.047</td>\n",
       "      <td>0.02014</td>\n",
       "      <td>-0.097 *</td>\n",
       "      <td>0.05698</td>\n",
       "      <td>-1.70</td>\n",
       "      <td>0.09</td>\n",
       "    </tr>\n",
       "    <tr>\n",
       "      <th>6</th>\n",
       "      <td>0.038</td>\n",
       "      <td>0.02014</td>\n",
       "      <td>-0.059</td>\n",
       "      <td>0.06043</td>\n",
       "      <td>-0.98</td>\n",
       "      <td>0.33</td>\n",
       "    </tr>\n",
       "    <tr>\n",
       "      <th>7</th>\n",
       "      <td>0.013</td>\n",
       "      <td>0.02014</td>\n",
       "      <td>-0.046</td>\n",
       "      <td>0.06370</td>\n",
       "      <td>-0.72</td>\n",
       "      <td>0.47</td>\n",
       "    </tr>\n",
       "    <tr>\n",
       "      <th>8</th>\n",
       "      <td>-0.025</td>\n",
       "      <td>0.02014</td>\n",
       "      <td>-0.071</td>\n",
       "      <td>0.06681</td>\n",
       "      <td>-1.07</td>\n",
       "      <td>0.29</td>\n",
       "    </tr>\n",
       "    <tr>\n",
       "      <th>9</th>\n",
       "      <td>-0.139</td>\n",
       "      <td>0.02014</td>\n",
       "      <td>-0.211 ***</td>\n",
       "      <td>0.06978</td>\n",
       "      <td>-3.02</td>\n",
       "      <td>0.00</td>\n",
       "    </tr>\n",
       "    <tr>\n",
       "      <th>10</th>\n",
       "      <td>-0.038</td>\n",
       "      <td>0.02014</td>\n",
       "      <td>-0.249 ***</td>\n",
       "      <td>0.07263</td>\n",
       "      <td>-3.43</td>\n",
       "      <td>0.00</td>\n",
       "    </tr>\n",
       "  </tbody>\n",
       "</table>\n",
       "</div>"
      ],
      "text/plain": [
       "       AR  Std. E. AR         CAR  Std. E. CAR  T-stat  P-value\n",
       "-2 -0.015     0.02014      -0.015      0.02014   -0.74     0.46\n",
       "-1 -0.018     0.02014      -0.033      0.02849   -1.17     0.24\n",
       "0   0.032     0.02014      -0.002      0.03489   -0.04     0.97\n",
       "1  -0.019     0.02014       -0.02      0.04029   -0.50     0.62\n",
       "2  -0.022     0.02014      -0.043      0.04505   -0.94     0.35\n",
       "3   0.022     0.02014       -0.02      0.04934   -0.41     0.69\n",
       "4  -0.029     0.02014      -0.049      0.05330   -0.93     0.35\n",
       "5  -0.047     0.02014    -0.097 *      0.05698   -1.70     0.09\n",
       "6   0.038     0.02014      -0.059      0.06043   -0.98     0.33\n",
       "7   0.013     0.02014      -0.046      0.06370   -0.72     0.47\n",
       "8  -0.025     0.02014      -0.071      0.06681   -1.07     0.29\n",
       "9  -0.139     0.02014  -0.211 ***      0.06978   -3.02     0.00\n",
       "10 -0.038     0.02014  -0.249 ***      0.07263   -3.43     0.00"
      ]
     },
     "execution_count": 14,
     "metadata": {},
     "output_type": "execute_result"
    }
   ],
   "source": [
    "event.results(decimals=[3,5,3,5,2,2])"
   ]
  },
  {
   "cell_type": "code",
   "execution_count": null,
   "metadata": {
    "ExecuteTime": {
     "end_time": "2020-09-28T09:19:15.662839Z",
     "start_time": "2020-09-28T09:19:15.627286Z"
    }
   },
   "outputs": [],
   "source": [
    "event.to_excel('export.xlsx')"
   ]
  },
  {
   "cell_type": "markdown",
   "metadata": {},
   "source": [
    "## Example 2: An  of events\n",
    "\n",
    "The eventstudy package offer three different entry points. The list of events can be provided using a csv file, a plain python text or a python list.\n",
    "\n",
    "In this second example, based on the same data and preliminary work, we will compute an event study on GAFA annual report (10-K form) releases.\n",
    "\n",
    "### Data preparation\n",
    "\n",
    "The first step is to gather the data about the events and to format it. For the purpose of this example we will use the csv file methods. The csv file must contains all information needed to compute the model.\n",
    "\n",
    "The event study will be computed using the market model. According to the API documentation aside from event study parameters which will be set globally for all events (event_window, estimation_size and buffer_size), the market model needs the security_ticker, the market_ticker and the event_date parameters.\n",
    "\n",
    "Thus, the csv file should contain three columns with the exact same names as the parameter names.\n",
    "\n",
    "**Note:** The csv file must use comma (‘,’) as separator.\n",
    "\n",
    "### Event study computation\n",
    "\n",
    "To create an event study analysis of an aggregate of events, we will use the Multiple class. This class is designed following the same spirit and structure of the Single class.\n",
    "\n",
    "Run the event study using the csv importer method:"
   ]
  },
  {
   "cell_type": "code",
   "execution_count": 22,
   "metadata": {
    "ExecuteTime": {
     "end_time": "2020-03-09T07:57:35.326436Z",
     "start_time": "2020-03-09T07:57:35.220000Z"
    }
   },
   "outputs": [
    {
     "name": "stderr",
     "output_type": "stream",
     "text": [
      "WARNING:root: 3 events have not been processed due to data issues.\n",
      "Tips: Get more details on errors by calling Multiple.error_report() method or by exploring Multiple.errors class variable.\n"
     ]
    }
   ],
   "source": [
    "release_10K = es.Multiple.from_csv(\n",
    "    path = '10K.csv', # the path to the csv file created\n",
    "    event_study_model = es.Single.market_model,\n",
    "    event_window = (-5,+10),\n",
    "    estimation_size = 200,\n",
    "    buffer_size = 30,\n",
    "    date_format = '%d/%m/%Y',\n",
    "    ignore_errors = True\n",
    ")"
   ]
  },
  {
   "cell_type": "markdown",
   "metadata": {},
   "source": [
    "**Note:** The event_study_model parameter must point to a function. This function can either be a model function provided by the Single class or a user-defined function.\n",
    "\n",
    "When the ignore_errors parameter is set to True (which is its default value), the event study analysis will be computed regardless of any error encounter. Event triggering an error will be remove of the sample. Use error_report method to get the full list of error and their explanation. Errors are often coming from data unavailability.\n",
    "\n",
    "Set the ignore_errors to False if you prefer the analysis to stop at the first error."
   ]
  },
  {
   "cell_type": "code",
   "execution_count": 23,
   "metadata": {
    "ExecuteTime": {
     "end_time": "2020-03-09T07:57:35.343313Z",
     "start_time": "2020-03-09T07:57:35.328896Z"
    }
   },
   "outputs": [
    {
     "name": "stdout",
     "output_type": "stream",
     "text": [
      "Error Report\n",
      "============\n",
      "\n",
      "3 errors due to data unavailability.\n",
      "The respective events was not processed and thus removed from the sample.\n",
      "It does not affect the computation of other events.\n",
      "\n",
      "Help 1: Check if the company was quoted at this date, \n",
      "Help 2: For event study modelised used Fama-French models,\n",
      "        check if the Fama-French dataset imported is up-to-date.\n",
      "Tips:   Re-import all parameters and re-run the event study analysis.\n",
      "\n",
      "Details\n",
      "=======\n",
      "(You can find more details on errors in the documentation.)\n",
      "\n",
      "Error            Date                       Parameters                             \n",
      "---------------- -------------------------- -----------------------------------------\n",
      "DateMissingError 2020-02-04T00:00:00.000000 security_ticker: GOOG; market_ticker: SPY\n",
      "Description: Date (2020-02-04T00:00:00.000000) is missing in parameter: returns.\n",
      "\n",
      "DateMissingError 2020-01-31T00:00:00.000000 security_ticker: AMZN; market_ticker: SPY\n",
      "Description: Date (2020-01-31T00:00:00.000000) is missing in parameter: returns.\n",
      "\n",
      "DateMissingError 2020-01-30T00:00:00.000000 security_ticker: FB; market_ticker: SPY  \n",
      "Description: Date (2020-01-30T00:00:00.000000) is missing in parameter: returns.\n",
      "---------------- -------------------------- -----------------------------------------\n"
     ]
    }
   ],
   "source": [
    "print(release_10K.error_report())"
   ]
  },
  {
   "cell_type": "markdown",
   "metadata": {},
   "source": [
    "### Display results:\n",
    "In a plot:\n",
    "\n",
    "*grey area: confidence interval (here defined by the user at 95%); blue line: CAAR*"
   ]
  },
  {
   "cell_type": "code",
   "execution_count": 24,
   "metadata": {
    "ExecuteTime": {
     "end_time": "2020-03-09T07:57:35.629721Z",
     "start_time": "2020-03-09T07:57:35.350549Z"
    }
   },
   "outputs": [
    {
     "data": {
      "image/png": "[encoded data removed]",
      "text/plain": [
       "<Figure size 432x288 with 1 Axes>"
      ]
     },
     "metadata": {
      "needs_background": "light"
     },
     "output_type": "display_data"
    }
   ],
   "source": [
    "release_10K.plot(confidence=.95)\n",
    "plt.show() # use standard matplotlib function to display the plot"
   ]
  },
  {
   "cell_type": "markdown",
   "metadata": {},
   "source": [
    "Or in a table:\n",
    "\n",
    "**Note:** Asterisks are added automatically to highlight the level of significance (Significance level: *** at 99%, ** at 95%, * at 90%). You can remove asterisks by setting asterisks parameter at False.\n",
    "\n",
    "decimals is a list of integer setting for each column (except index) the rounding decimal. You can also set one integer (e.g. decimals = 3) if you want all columns to be rounded the same.\n",
    "\n",
    "See the documentation on this results function for more details."
   ]
  },
  {
   "cell_type": "code",
   "execution_count": 25,
   "metadata": {
    "ExecuteTime": {
     "end_time": "2020-03-09T07:57:35.655903Z",
     "start_time": "2020-03-09T07:57:35.632702Z"
    }
   },
   "outputs": [
    {
     "data": {
      "text/html": [
       "<div>\n",
       "<style scoped>\n",
       "    .dataframe tbody tr th:only-of-type {\n",
       "        vertical-align: middle;\n",
       "    }\n",
       "\n",
       "    .dataframe tbody tr th {\n",
       "        vertical-align: top;\n",
       "    }\n",
       "\n",
       "    .dataframe thead th {\n",
       "        text-align: right;\n",
       "    }\n",
       "</style>\n",
       "<table border=\"1\" class=\"dataframe\">\n",
       "  <thead>\n",
       "    <tr style=\"text-align: right;\">\n",
       "      <th></th>\n",
       "      <th>AAR</th>\n",
       "      <th>Std. E. AAR</th>\n",
       "      <th>CAAR</th>\n",
       "      <th>Std. E. CAAR</th>\n",
       "      <th>T-stat</th>\n",
       "      <th>P-value</th>\n",
       "    </tr>\n",
       "  </thead>\n",
       "  <tbody>\n",
       "    <tr>\n",
       "      <th>-5</th>\n",
       "      <td>-0.004</td>\n",
       "      <td>0.00233</td>\n",
       "      <td>-0.004 *</td>\n",
       "      <td>0.00233</td>\n",
       "      <td>-1.93</td>\n",
       "      <td>0.05</td>\n",
       "    </tr>\n",
       "    <tr>\n",
       "      <th>-4</th>\n",
       "      <td>0.001</td>\n",
       "      <td>0.00233</td>\n",
       "      <td>-0.004</td>\n",
       "      <td>0.00329</td>\n",
       "      <td>-1.11</td>\n",
       "      <td>0.27</td>\n",
       "    </tr>\n",
       "    <tr>\n",
       "      <th>-3</th>\n",
       "      <td>0.001</td>\n",
       "      <td>0.00233</td>\n",
       "      <td>-0.003</td>\n",
       "      <td>0.00403</td>\n",
       "      <td>-0.73</td>\n",
       "      <td>0.46</td>\n",
       "    </tr>\n",
       "    <tr>\n",
       "      <th>-2</th>\n",
       "      <td>-0.002</td>\n",
       "      <td>0.00233</td>\n",
       "      <td>-0.005</td>\n",
       "      <td>0.00465</td>\n",
       "      <td>-1.17</td>\n",
       "      <td>0.24</td>\n",
       "    </tr>\n",
       "    <tr>\n",
       "      <th>-1</th>\n",
       "      <td>0.004</td>\n",
       "      <td>0.00233</td>\n",
       "      <td>-0.002</td>\n",
       "      <td>0.00520</td>\n",
       "      <td>-0.35</td>\n",
       "      <td>0.72</td>\n",
       "    </tr>\n",
       "    <tr>\n",
       "      <th>0</th>\n",
       "      <td>0.009</td>\n",
       "      <td>0.00233</td>\n",
       "      <td>0.008</td>\n",
       "      <td>0.00570</td>\n",
       "      <td>1.32</td>\n",
       "      <td>0.19</td>\n",
       "    </tr>\n",
       "    <tr>\n",
       "      <th>1</th>\n",
       "      <td>-0.004</td>\n",
       "      <td>0.00233</td>\n",
       "      <td>0.003</td>\n",
       "      <td>0.00615</td>\n",
       "      <td>0.54</td>\n",
       "      <td>0.59</td>\n",
       "    </tr>\n",
       "    <tr>\n",
       "      <th>2</th>\n",
       "      <td>-0.002</td>\n",
       "      <td>0.00233</td>\n",
       "      <td>0.002</td>\n",
       "      <td>0.00658</td>\n",
       "      <td>0.26</td>\n",
       "      <td>0.79</td>\n",
       "    </tr>\n",
       "    <tr>\n",
       "      <th>3</th>\n",
       "      <td>-0.001</td>\n",
       "      <td>0.00233</td>\n",
       "      <td>0.001</td>\n",
       "      <td>0.00698</td>\n",
       "      <td>0.12</td>\n",
       "      <td>0.90</td>\n",
       "    </tr>\n",
       "    <tr>\n",
       "      <th>4</th>\n",
       "      <td>-0.002</td>\n",
       "      <td>0.00233</td>\n",
       "      <td>-0.001</td>\n",
       "      <td>0.00735</td>\n",
       "      <td>-0.15</td>\n",
       "      <td>0.88</td>\n",
       "    </tr>\n",
       "    <tr>\n",
       "      <th>5</th>\n",
       "      <td>-0.003</td>\n",
       "      <td>0.00233</td>\n",
       "      <td>-0.005</td>\n",
       "      <td>0.00771</td>\n",
       "      <td>-0.59</td>\n",
       "      <td>0.56</td>\n",
       "    </tr>\n",
       "    <tr>\n",
       "      <th>6</th>\n",
       "      <td>-0.005</td>\n",
       "      <td>0.00233</td>\n",
       "      <td>-0.009</td>\n",
       "      <td>0.00806</td>\n",
       "      <td>-1.13</td>\n",
       "      <td>0.26</td>\n",
       "    </tr>\n",
       "    <tr>\n",
       "      <th>7</th>\n",
       "      <td>0.000</td>\n",
       "      <td>0.00233</td>\n",
       "      <td>-0.009</td>\n",
       "      <td>0.00839</td>\n",
       "      <td>-1.07</td>\n",
       "      <td>0.28</td>\n",
       "    </tr>\n",
       "    <tr>\n",
       "      <th>8</th>\n",
       "      <td>-0.001</td>\n",
       "      <td>0.00233</td>\n",
       "      <td>-0.01</td>\n",
       "      <td>0.00870</td>\n",
       "      <td>-1.20</td>\n",
       "      <td>0.23</td>\n",
       "    </tr>\n",
       "    <tr>\n",
       "      <th>9</th>\n",
       "      <td>0.002</td>\n",
       "      <td>0.00233</td>\n",
       "      <td>-0.008</td>\n",
       "      <td>0.00901</td>\n",
       "      <td>-0.91</td>\n",
       "      <td>0.36</td>\n",
       "    </tr>\n",
       "    <tr>\n",
       "      <th>10</th>\n",
       "      <td>-0.004</td>\n",
       "      <td>0.00233</td>\n",
       "      <td>-0.012</td>\n",
       "      <td>0.00930</td>\n",
       "      <td>-1.27</td>\n",
       "      <td>0.20</td>\n",
       "    </tr>\n",
       "  </tbody>\n",
       "</table>\n",
       "</div>"
      ],
      "text/plain": [
       "      AAR  Std. E. AAR      CAAR  Std. E. CAAR  T-stat  P-value\n",
       "-5 -0.004      0.00233  -0.004 *       0.00233   -1.93     0.05\n",
       "-4  0.001      0.00233    -0.004       0.00329   -1.11     0.27\n",
       "-3  0.001      0.00233    -0.003       0.00403   -0.73     0.46\n",
       "-2 -0.002      0.00233    -0.005       0.00465   -1.17     0.24\n",
       "-1  0.004      0.00233    -0.002       0.00520   -0.35     0.72\n",
       "0   0.009      0.00233     0.008       0.00570    1.32     0.19\n",
       "1  -0.004      0.00233     0.003       0.00615    0.54     0.59\n",
       "2  -0.002      0.00233     0.002       0.00658    0.26     0.79\n",
       "3  -0.001      0.00233     0.001       0.00698    0.12     0.90\n",
       "4  -0.002      0.00233    -0.001       0.00735   -0.15     0.88\n",
       "5  -0.003      0.00233    -0.005       0.00771   -0.59     0.56\n",
       "6  -0.005      0.00233    -0.009       0.00806   -1.13     0.26\n",
       "7   0.000      0.00233    -0.009       0.00839   -1.07     0.28\n",
       "8  -0.001      0.00233     -0.01       0.00870   -1.20     0.23\n",
       "9   0.002      0.00233    -0.008       0.00901   -0.91     0.36\n",
       "10 -0.004      0.00233    -0.012       0.00930   -1.27     0.20"
      ]
     },
     "execution_count": 25,
     "metadata": {},
     "output_type": "execute_result"
    }
   ],
   "source": [
    "release_10K.results(decimals=[3,5,3,5,2,2])"
   ]
  },
  {
   "cell_type": "markdown",
   "metadata": {
    "ExecuteTime": {
     "end_time": "2020-03-09T07:53:50.235310Z",
     "start_time": "2020-03-09T07:53:50.209995Z"
    }
   },
   "source": [
    "Get CAR distribution:"
   ]
  },
  {
   "cell_type": "code",
   "execution_count": 26,
   "metadata": {
    "ExecuteTime": {
     "end_time": "2020-03-09T07:57:35.734165Z",
     "start_time": "2020-03-09T07:57:35.674343Z"
    },
    "scrolled": true
   },
   "outputs": [
    {
     "data": {
      "text/html": [
       "<div>\n",
       "<style scoped>\n",
       "    .dataframe tbody tr th:only-of-type {\n",
       "        vertical-align: middle;\n",
       "    }\n",
       "\n",
       "    .dataframe tbody tr th {\n",
       "        vertical-align: top;\n",
       "    }\n",
       "\n",
       "    .dataframe thead th {\n",
       "        text-align: right;\n",
       "    }\n",
       "</style>\n",
       "<table border=\"1\" class=\"dataframe\">\n",
       "  <thead>\n",
       "    <tr style=\"text-align: right;\">\n",
       "      <th></th>\n",
       "      <th>Mean</th>\n",
       "      <th>Variance</th>\n",
       "      <th>Kurtosis</th>\n",
       "      <th>Skewness</th>\n",
       "      <th>Min</th>\n",
       "      <th>Quantile 25%</th>\n",
       "      <th>Quantile 50%</th>\n",
       "      <th>Quantile 75%</th>\n",
       "      <th>Max</th>\n",
       "    </tr>\n",
       "  </thead>\n",
       "  <tbody>\n",
       "    <tr>\n",
       "      <th>-5</th>\n",
       "      <td>-0.0045</td>\n",
       "      <td>0.0003</td>\n",
       "      <td>0.7574</td>\n",
       "      <td>-0.2714</td>\n",
       "      <td>-0.0466</td>\n",
       "      <td>-0.0109</td>\n",
       "      <td>-0.0048</td>\n",
       "      <td>0.0045</td>\n",
       "      <td>0.0372</td>\n",
       "    </tr>\n",
       "    <tr>\n",
       "      <th>-4</th>\n",
       "      <td>-0.0036</td>\n",
       "      <td>0.0006</td>\n",
       "      <td>-0.1199</td>\n",
       "      <td>-0.3267</td>\n",
       "      <td>-0.0600</td>\n",
       "      <td>-0.0147</td>\n",
       "      <td>0.0004</td>\n",
       "      <td>0.0069</td>\n",
       "      <td>0.0507</td>\n",
       "    </tr>\n",
       "    <tr>\n",
       "      <th>-3</th>\n",
       "      <td>-0.0030</td>\n",
       "      <td>0.0009</td>\n",
       "      <td>0.1443</td>\n",
       "      <td>-0.1972</td>\n",
       "      <td>-0.0843</td>\n",
       "      <td>-0.0229</td>\n",
       "      <td>-0.0047</td>\n",
       "      <td>0.0173</td>\n",
       "      <td>0.0617</td>\n",
       "    </tr>\n",
       "    <tr>\n",
       "      <th>-2</th>\n",
       "      <td>-0.0054</td>\n",
       "      <td>0.0007</td>\n",
       "      <td>-0.0016</td>\n",
       "      <td>0.2398</td>\n",
       "      <td>-0.0637</td>\n",
       "      <td>-0.0212</td>\n",
       "      <td>-0.0074</td>\n",
       "      <td>0.0064</td>\n",
       "      <td>0.0553</td>\n",
       "    </tr>\n",
       "    <tr>\n",
       "      <th>-1</th>\n",
       "      <td>-0.0018</td>\n",
       "      <td>0.0012</td>\n",
       "      <td>0.3359</td>\n",
       "      <td>0.4938</td>\n",
       "      <td>-0.0693</td>\n",
       "      <td>-0.0227</td>\n",
       "      <td>-0.0082</td>\n",
       "      <td>0.0139</td>\n",
       "      <td>0.0915</td>\n",
       "    </tr>\n",
       "    <tr>\n",
       "      <th>0</th>\n",
       "      <td>0.0075</td>\n",
       "      <td>0.0036</td>\n",
       "      <td>1.5656</td>\n",
       "      <td>1.1312</td>\n",
       "      <td>-0.1044</td>\n",
       "      <td>-0.0285</td>\n",
       "      <td>-0.0014</td>\n",
       "      <td>0.0253</td>\n",
       "      <td>0.2007</td>\n",
       "    </tr>\n",
       "    <tr>\n",
       "      <th>1</th>\n",
       "      <td>0.0033</td>\n",
       "      <td>0.0044</td>\n",
       "      <td>1.0385</td>\n",
       "      <td>1.0417</td>\n",
       "      <td>-0.1013</td>\n",
       "      <td>-0.0370</td>\n",
       "      <td>-0.0125</td>\n",
       "      <td>0.0236</td>\n",
       "      <td>0.2110</td>\n",
       "    </tr>\n",
       "    <tr>\n",
       "      <th>2</th>\n",
       "      <td>0.0017</td>\n",
       "      <td>0.0049</td>\n",
       "      <td>0.2146</td>\n",
       "      <td>0.9171</td>\n",
       "      <td>-0.0948</td>\n",
       "      <td>-0.0419</td>\n",
       "      <td>-0.0153</td>\n",
       "      <td>0.0323</td>\n",
       "      <td>0.1875</td>\n",
       "    </tr>\n",
       "    <tr>\n",
       "      <th>3</th>\n",
       "      <td>0.0008</td>\n",
       "      <td>0.0052</td>\n",
       "      <td>0.4870</td>\n",
       "      <td>0.9131</td>\n",
       "      <td>-0.1281</td>\n",
       "      <td>-0.0448</td>\n",
       "      <td>-0.0190</td>\n",
       "      <td>0.0296</td>\n",
       "      <td>0.1981</td>\n",
       "    </tr>\n",
       "    <tr>\n",
       "      <th>4</th>\n",
       "      <td>-0.0011</td>\n",
       "      <td>0.0051</td>\n",
       "      <td>0.6812</td>\n",
       "      <td>0.9303</td>\n",
       "      <td>-0.1233</td>\n",
       "      <td>-0.0410</td>\n",
       "      <td>-0.0192</td>\n",
       "      <td>0.0256</td>\n",
       "      <td>0.2090</td>\n",
       "    </tr>\n",
       "    <tr>\n",
       "      <th>5</th>\n",
       "      <td>-0.0045</td>\n",
       "      <td>0.0057</td>\n",
       "      <td>0.7718</td>\n",
       "      <td>0.5739</td>\n",
       "      <td>-0.1669</td>\n",
       "      <td>-0.0398</td>\n",
       "      <td>-0.0197</td>\n",
       "      <td>0.0277</td>\n",
       "      <td>0.2156</td>\n",
       "    </tr>\n",
       "    <tr>\n",
       "      <th>6</th>\n",
       "      <td>-0.0091</td>\n",
       "      <td>0.0058</td>\n",
       "      <td>0.8455</td>\n",
       "      <td>0.4398</td>\n",
       "      <td>-0.1815</td>\n",
       "      <td>-0.0460</td>\n",
       "      <td>-0.0217</td>\n",
       "      <td>0.0251</td>\n",
       "      <td>0.2140</td>\n",
       "    </tr>\n",
       "    <tr>\n",
       "      <th>7</th>\n",
       "      <td>-0.0090</td>\n",
       "      <td>0.0058</td>\n",
       "      <td>0.9543</td>\n",
       "      <td>0.2130</td>\n",
       "      <td>-0.1970</td>\n",
       "      <td>-0.0490</td>\n",
       "      <td>-0.0166</td>\n",
       "      <td>0.0256</td>\n",
       "      <td>0.2055</td>\n",
       "    </tr>\n",
       "    <tr>\n",
       "      <th>8</th>\n",
       "      <td>-0.0105</td>\n",
       "      <td>0.0056</td>\n",
       "      <td>0.9526</td>\n",
       "      <td>0.3550</td>\n",
       "      <td>-0.1815</td>\n",
       "      <td>-0.0454</td>\n",
       "      <td>-0.0155</td>\n",
       "      <td>0.0261</td>\n",
       "      <td>0.2117</td>\n",
       "    </tr>\n",
       "    <tr>\n",
       "      <th>9</th>\n",
       "      <td>-0.0082</td>\n",
       "      <td>0.0053</td>\n",
       "      <td>0.6843</td>\n",
       "      <td>0.5289</td>\n",
       "      <td>-0.1516</td>\n",
       "      <td>-0.0474</td>\n",
       "      <td>-0.0129</td>\n",
       "      <td>0.0280</td>\n",
       "      <td>0.2037</td>\n",
       "    </tr>\n",
       "    <tr>\n",
       "      <th>10</th>\n",
       "      <td>-0.0118</td>\n",
       "      <td>0.0058</td>\n",
       "      <td>0.8983</td>\n",
       "      <td>0.4000</td>\n",
       "      <td>-0.1738</td>\n",
       "      <td>-0.0481</td>\n",
       "      <td>-0.0162</td>\n",
       "      <td>0.0249</td>\n",
       "      <td>0.2110</td>\n",
       "    </tr>\n",
       "  </tbody>\n",
       "</table>\n",
       "</div>"
      ],
      "text/plain": [
       "      Mean  Variance  Kurtosis  Skewness     Min  Quantile 25%  Quantile 50%  \\\n",
       "-5 -0.0045    0.0003    0.7574   -0.2714 -0.0466       -0.0109       -0.0048   \n",
       "-4 -0.0036    0.0006   -0.1199   -0.3267 -0.0600       -0.0147        0.0004   \n",
       "-3 -0.0030    0.0009    0.1443   -0.1972 -0.0843       -0.0229       -0.0047   \n",
       "-2 -0.0054    0.0007   -0.0016    0.2398 -0.0637       -0.0212       -0.0074   \n",
       "-1 -0.0018    0.0012    0.3359    0.4938 -0.0693       -0.0227       -0.0082   \n",
       "0   0.0075    0.0036    1.5656    1.1312 -0.1044       -0.0285       -0.0014   \n",
       "1   0.0033    0.0044    1.0385    1.0417 -0.1013       -0.0370       -0.0125   \n",
       "2   0.0017    0.0049    0.2146    0.9171 -0.0948       -0.0419       -0.0153   \n",
       "3   0.0008    0.0052    0.4870    0.9131 -0.1281       -0.0448       -0.0190   \n",
       "4  -0.0011    0.0051    0.6812    0.9303 -0.1233       -0.0410       -0.0192   \n",
       "5  -0.0045    0.0057    0.7718    0.5739 -0.1669       -0.0398       -0.0197   \n",
       "6  -0.0091    0.0058    0.8455    0.4398 -0.1815       -0.0460       -0.0217   \n",
       "7  -0.0090    0.0058    0.9543    0.2130 -0.1970       -0.0490       -0.0166   \n",
       "8  -0.0105    0.0056    0.9526    0.3550 -0.1815       -0.0454       -0.0155   \n",
       "9  -0.0082    0.0053    0.6843    0.5289 -0.1516       -0.0474       -0.0129   \n",
       "10 -0.0118    0.0058    0.8983    0.4000 -0.1738       -0.0481       -0.0162   \n",
       "\n",
       "    Quantile 75%     Max  \n",
       "-5        0.0045  0.0372  \n",
       "-4        0.0069  0.0507  \n",
       "-3        0.0173  0.0617  \n",
       "-2        0.0064  0.0553  \n",
       "-1        0.0139  0.0915  \n",
       "0         0.0253  0.2007  \n",
       "1         0.0236  0.2110  \n",
       "2         0.0323  0.1875  \n",
       "3         0.0296  0.1981  \n",
       "4         0.0256  0.2090  \n",
       "5         0.0277  0.2156  \n",
       "6         0.0251  0.2140  \n",
       "7         0.0256  0.2055  \n",
       "8         0.0261  0.2117  \n",
       "9         0.0280  0.2037  \n",
       "10        0.0249  0.2110  "
      ]
     },
     "execution_count": 26,
     "metadata": {},
     "output_type": "execute_result"
    }
   ],
   "source": [
    "release_10K.get_CAR_dist(4)"
   ]
  },
  {
   "cell_type": "markdown",
   "metadata": {},
   "source": [
    "## Bonus: Loop in event\n",
    "\n",
    "The true strengh of this package is to use python. You can create complex algorithm to compute programatically event stuy analyses. From the same data as above, we will compute an event study of 10-K form releases for each company.\n",
    "\n",
    "### Data preparation\n",
    "This time, we will use the from_list method which set event list using a python list. This let the user manipulate the list of event before computing event studies. This list must contains all parameters needed to compute the selected model (here we will use the Fama-French 3-factor model). The Fama-French factors have to be set using the eventstudy.Single.import_FamaFrench method (see preliminary step)."
   ]
  },
  {
   "cell_type": "code",
   "execution_count": null,
   "metadata": {
    "ExecuteTime": {
     "end_time": "2020-03-09T07:57:35.810779Z",
     "start_time": "2020-03-09T07:57:35.754067Z"
    }
   },
   "outputs": [],
   "source": [
    "events_db = [\n",
    "    {'security_ticker': 'AAPL', 'market_ticker': 'SPY', 'event_date': np.datetime64('2019-10-31')},\n",
    "    {'security_ticker': 'AAPL', 'market_ticker': 'SPY', 'event_date': np.datetime64('2018-11-05')},\n",
    "    {'security_ticker': 'AAPL', 'market_ticker': 'SPY', 'event_date': np.datetime64('2017-11-03')},\n",
    "    {'security_ticker': 'AAPL', 'market_ticker': 'SPY', 'event_date': np.datetime64('2016-10-26')},\n",
    "    {'security_ticker': 'AAPL', 'market_ticker': 'SPY', 'event_date': np.datetime64('2015-10-28')},\n",
    "    {'security_ticker': 'AAPL', 'market_ticker': 'SPY', 'event_date': np.datetime64('2014-10-27')},\n",
    "    {'security_ticker': 'AAPL', 'market_ticker': 'SPY', 'event_date': np.datetime64('2013-10-30')},\n",
    "    {'security_ticker': 'AAPL', 'market_ticker': 'SPY', 'event_date': np.datetime64('2012-10-31')},\n",
    "    {'security_ticker': 'AAPL', 'market_ticker': 'SPY', 'event_date': np.datetime64('2011-10-26')},\n",
    "    {'security_ticker': 'AAPL', 'market_ticker': 'SPY', 'event_date': np.datetime64('2010-10-27')},\n",
    "    {'security_ticker': 'GOOG', 'market_ticker': 'SPY', 'event_date': np.datetime64('2020-02-04')},\n",
    "    {'security_ticker': 'GOOG', 'market_ticker': 'SPY', 'event_date': np.datetime64('2019-02-05')},\n",
    "    {'security_ticker': 'GOOG', 'market_ticker': 'SPY', 'event_date': np.datetime64('2018-02-06')},\n",
    "    {'security_ticker': 'GOOG', 'market_ticker': 'SPY', 'event_date': np.datetime64('2017-02-03')},\n",
    "    {'security_ticker': 'GOOG', 'market_ticker': 'SPY', 'event_date': np.datetime64('2016-02-11')},\n",
    "    {'security_ticker': 'FB', 'market_ticker': 'SPY', 'event_date': np.datetime64('2020-01-30')},\n",
    "    {'security_ticker': 'FB', 'market_ticker': 'SPY', 'event_date': np.datetime64('2019-01-31')},\n",
    "    {'security_ticker': 'FB', 'market_ticker': 'SPY', 'event_date': np.datetime64('2018-02-01')},\n",
    "    {'security_ticker': 'FB', 'market_ticker': 'SPY', 'event_date': np.datetime64('2016-01-28')},\n",
    "    {'security_ticker': 'FB', 'market_ticker': 'SPY', 'event_date': np.datetime64('2015-01-29')},\n",
    "    {'security_ticker': 'FB', 'market_ticker': 'SPY', 'event_date': np.datetime64('2014-01-31')},\n",
    "    {'security_ticker': 'AMZN', 'market_ticker': 'SPY', 'event_date': np.datetime64('2020-01-31')},\n",
    "    {'security_ticker': 'AMZN', 'market_ticker': 'SPY', 'event_date': np.datetime64('2019-02-01')},\n",
    "    {'security_ticker': 'AMZN', 'market_ticker': 'SPY', 'event_date': np.datetime64('2018-02-02')},\n",
    "    {'security_ticker': 'AMZN', 'market_ticker': 'SPY', 'event_date': np.datetime64('2017-02-10')},\n",
    "    {'security_ticker': 'AMZN', 'market_ticker': 'SPY', 'event_date': np.datetime64('2016-01-29')},\n",
    "    {'security_ticker': 'AMZN', 'market_ticker': 'SPY', 'event_date': np.datetime64('2015-01-30')},\n",
    "    {'security_ticker': 'AMZN', 'market_ticker': 'SPY', 'event_date': np.datetime64('2013-01-30')},\n",
    "    {'security_ticker': 'AMZN', 'market_ticker': 'SPY', 'event_date': np.datetime64('2012-02-01')},\n",
    "    {'security_ticker': 'AMZN', 'market_ticker': 'SPY', 'event_date': np.datetime64('2011-01-28')},\n",
    "    {'security_ticker': 'AMZN', 'market_ticker': 'SPY', 'event_date': np.datetime64('2010-01-29')},\n",
    "    {'security_ticker': 'MSFT', 'market_ticker': 'SPY', 'event_date': np.datetime64('2019-08-01')},\n",
    "    {'security_ticker': 'MSFT', 'market_ticker': 'SPY', 'event_date': np.datetime64('2018-08-03')},\n",
    "    {'security_ticker': 'MSFT', 'market_ticker': 'SPY', 'event_date': np.datetime64('2017-08-02')},\n",
    "    {'security_ticker': 'MSFT', 'market_ticker': 'SPY', 'event_date': np.datetime64('2016-07-28')},\n",
    "    {'security_ticker': 'MSFT', 'market_ticker': 'SPY', 'event_date': np.datetime64('2015-07-31')},\n",
    "    {'security_ticker': 'MSFT', 'market_ticker': 'SPY', 'event_date': np.datetime64('2014-07-31')},\n",
    "    {'security_ticker': 'MSFT', 'market_ticker': 'SPY', 'event_date': np.datetime64('2013-07-30')},\n",
    "    {'security_ticker': 'MSFT', 'market_ticker': 'SPY', 'event_date': np.datetime64('2012-07-26')},\n",
    "    {'security_ticker': 'MSFT', 'market_ticker': 'SPY', 'event_date': np.datetime64('2011-07-28')},\n",
    "    {'security_ticker': 'MSFT', 'market_ticker': 'SPY', 'event_date': np.datetime64('2010-07-30')}\n",
    "]"
   ]
  },
  {
   "cell_type": "markdown",
   "metadata": {},
   "source": [
    "### Event studies computation\n",
    "Using a list comprehension, the full list of events can be filtered to create one list per company’s ticker. Then we can compute for each company the event study using the Fama-French 3 factor model and store each event study in a releases dictionary."
   ]
  },
  {
   "cell_type": "code",
   "execution_count": null,
   "metadata": {
    "ExecuteTime": {
     "end_time": "2020-03-09T07:57:36.031752Z",
     "start_time": "2020-03-09T07:57:35.817167Z"
    }
   },
   "outputs": [],
   "source": [
    "tickers = ['GOOG', 'AAPL', 'FB', 'AMZN', 'MSFT']\n",
    "releases = dict()\n",
    "\n",
    "for ticker in tickers:\n",
    "    events = [event for event in events_db if event['security_ticker']==ticker]\n",
    "    \n",
    "    releases[ticker] = es.Multiple.from_list(\n",
    "        events,\n",
    "        es.Single.FamaFrench_3factor,\n",
    "        event_window= (-5,+10)\n",
    "    )"
   ]
  },
  {
   "cell_type": "markdown",
   "metadata": {},
   "source": [
    "### Display results"
   ]
  },
  {
   "cell_type": "code",
   "execution_count": null,
   "metadata": {
    "ExecuteTime": {
     "end_time": "2020-03-09T07:57:37.497893Z",
     "start_time": "2020-03-09T07:57:36.038670Z"
    },
    "scrolled": true
   },
   "outputs": [],
   "source": [
    "for ticker, event in releases.items():\n",
    "    print(ticker)\n",
    "    event.plot()\n",
    "    plt.show()\n",
    "    display(event.results())\n",
    "    display(event.get_CAR_dist())"
   ]
  },
  {
   "cell_type": "code",
   "execution_count": null,
   "metadata": {},
   "outputs": [],
   "source": []
  }
 ],
 "metadata": {
  "kernelspec": {
   "display_name": "Python 3.9.7 ('base')",
   "language": "python",
   "name": "python3"
  },
  "language_info": {
   "codemirror_mode": {
    "name": "ipython",
    "version": 3
   },
   "file_extension": ".py",
   "mimetype": "text/x-python",
   "name": "python",
   "nbconvert_exporter": "python",
   "pygments_lexer": "ipython3",
   "version": "3.9.7"
  },
  "vscode": {
   "interpreter": {
    "hash": "bdcc25400d23b3e86d2297747c4c2461fc9c3c59e70fbf07c30f789da75e5d0f"
   }
  }
 },
 "nbformat": 4,
 "nbformat_minor": 4
}
